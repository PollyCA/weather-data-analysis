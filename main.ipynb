{
 "cells": [
  {
   "cell_type": "markdown",
   "metadata": {},
   "source": [
    "## Weather Data Analysis"
   ]
  },
  {
   "cell_type": "code",
   "execution_count": 26,
   "metadata": {},
   "outputs": [],
   "source": [
    "#import dependencies\n",
    "import csv\n",
    "import matplotlib.pyplot as plt\n",
    "import requests\n",
    "import pandas as pd\n",
    "\n",
    "from config import api_key\n",
    "\n",
    "from citipy import citipy\n",
    "\n"
   ]
  },
  {
   "cell_type": "markdown",
   "metadata": {},
   "source": [
    "#### Citipy"
   ]
  },
  {
   "cell_type": "code",
   "execution_count": 27,
   "metadata": {},
   "outputs": [
    {
     "name": "stdout",
     "output_type": "stream",
     "text": [
      "City Name: new york - Country Code: us\n"
     ]
    }
   ],
   "source": [
    "lat = 40.7142061\n",
    "lon = -73.9888\n",
    "\n",
    "city = citipy.nearest_city(lat,lon)\n",
    "\n",
    "city_name = city.city_name\n",
    "\n",
    "country_code = city.country_code\n",
    "\n",
    "print(f'City Name: {city_name} - Country Code: {country_code}')"
   ]
  },
  {
   "cell_type": "markdown",
   "metadata": {},
   "source": [
    "#### OpenWeatherMap - Weather API"
   ]
  },
  {
   "cell_type": "code",
   "execution_count": 32,
   "metadata": {},
   "outputs": [
    {
     "name": "stdout",
     "output_type": "stream",
     "text": [
      "http://api.openweathermap.org/data/2.5/weather?appid=a682479f30341377ebd2f56e388ac84a&units=metric&lat=40.7142061&lon=-73.9888\n"
     ]
    }
   ],
   "source": [
    "# Save config information.\n",
    "url = \"http://api.openweathermap.org/data/2.5/weather?\"\n",
    "units = \"metric\"\n",
    "\n",
    "# Build partial query URL\n",
    "query_url = f'{url}appid={api_key}&units={units}&lat={lat}&lon={lon}'\n",
    "\n",
    "print(query_url)"
   ]
  },
  {
   "cell_type": "code",
   "execution_count": 34,
   "metadata": {},
   "outputs": [
    {
     "name": "stdout",
     "output_type": "stream",
     "text": [
      "{'coord': {'lon': -73.99, 'lat': 40.71}, 'weather': [{'id': 803, 'main': 'Clouds', 'description': 'broken clouds', 'icon': '04n'}], 'base': 'stations', 'main': {'temp': 3.61, 'pressure': 1004, 'humidity': 39, 'temp_min': 2.8, 'temp_max': 4.4}, 'visibility': 16093, 'wind': {'speed': 8.2, 'deg': 310, 'gust': 9.8}, 'clouds': {'all': 75}, 'dt': 1547079300, 'sys': {'type': 1, 'id': 4686, 'message': 0.0058, 'country': 'US', 'sunrise': 1547122770, 'sunset': 1547156860}, 'id': 5128581, 'name': 'New York', 'cod': 200}\n"
     ]
    }
   ],
   "source": [
    "\n",
    "# Loop through the list of cities and perform a request for data on each\n",
    "response = requests.get(query_url).json()\n",
    "print(response)\n"
   ]
  },
  {
   "cell_type": "code",
   "execution_count": null,
   "metadata": {},
   "outputs": [],
   "source": []
  },
  {
   "cell_type": "code",
   "execution_count": null,
   "metadata": {},
   "outputs": [],
   "source": []
  },
  {
   "cell_type": "markdown",
   "metadata": {},
   "source": [
    "---"
   ]
  },
  {
   "cell_type": "code",
   "execution_count": null,
   "metadata": {},
   "outputs": [],
   "source": []
  }
 ],
 "metadata": {
  "kernelspec": {
   "display_name": "Python 3",
   "language": "python",
   "name": "python3"
  },
  "language_info": {
   "codemirror_mode": {
    "name": "ipython",
    "version": 3
   },
   "file_extension": ".py",
   "mimetype": "text/x-python",
   "name": "python",
   "nbconvert_exporter": "python",
   "pygments_lexer": "ipython3",
   "version": "3.6.6"
  }
 },
 "nbformat": 4,
 "nbformat_minor": 2
}
