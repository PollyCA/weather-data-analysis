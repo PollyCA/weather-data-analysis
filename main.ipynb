{
 "cells": [
  {
   "cell_type": "markdown",
   "metadata": {},
   "source": [
    "# Weather Data Analysis"
   ]
  },
  {
   "cell_type": "markdown",
   "metadata": {},
   "source": [
    "### Import Dependencies"
   ]
  },
  {
   "cell_type": "code",
   "execution_count": null,
   "metadata": {},
   "outputs": [],
   "source": [
    "#import dependencies\n",
    "\n",
    "import random\n",
    "import requests\n",
    "import pandas as pd\n",
    "import csv\n",
    "import matplotlib.pyplot as plt\n",
    "\n",
    "from citipy import citipy\n",
    "from config import api_key\n"
   ]
  },
  {
   "cell_type": "markdown",
   "metadata": {},
   "source": [
    "### Random latitudes"
   ]
  },
  {
   "cell_type": "markdown",
   "metadata": {},
   "source": [
    "- Range Latitudes: -90 to +90\n",
    "- Range Longitudes: -180 to +180"
   ]
  },
  {
   "cell_type": "code",
   "execution_count": null,
   "metadata": {},
   "outputs": [],
   "source": [
    "coord_list = []\n",
    "\n",
    "#Generate 600 random lats and lons\n",
    "\n",
    "ix = 0\n",
    "#jx = 150\n",
    "jx = 10\n",
    "\n",
    "while(ix<18):\n",
    "    \n",
    "    range1 = -90 + (ix*10)\n",
    "    range2 = range1 + 10 \n",
    "    \n",
    "    range3 = -180 + (ix*20)\n",
    "    range4 = range3 + 20 \n",
    "    \n",
    "    print(f'#### {ix}) Get {jx} random Lats from {range1}, {range2} and random Long from {range3}, {range4}')\n",
    "    \n",
    "    for i in range(jx):\n",
    "        \n",
    "        rand_lat = round( random.uniform(range1, range2) , 5) \n",
    "        rand_lon = round( random.uniform(range3, range4) , 5) \n",
    "\n",
    "        tmp = (rand_lat,rand_lon)\n",
    "        coord_list.append(tmp)\n",
    "    \n",
    "    ix += 1\n",
    "    \n",
    "## I had issues finding UNIQUE cities because the rando was too wide.. \n",
    "## so to solve this I started getting data from ranges from 10 to 10.. this is getting random numbers \n",
    "# from -90 to -80, then from -80 to -70"
   ]
  },
  {
   "cell_type": "code",
   "execution_count": null,
   "metadata": {},
   "outputs": [],
   "source": [
    "# Example\n",
    "i = 0\n",
    "for coord in coord_list:\n",
    "    print(coord)\n",
    "    \n",
    "    if i>3:\n",
    "        break\n",
    "    i += 1\n",
    "    "
   ]
  },
  {
   "cell_type": "markdown",
   "metadata": {},
   "source": [
    "### Get the cities\n",
    "\n",
    "These have to be at least 500 unique cities"
   ]
  },
  {
   "cell_type": "code",
   "execution_count": null,
   "metadata": {},
   "outputs": [],
   "source": [
    "cities = []\n",
    "\n",
    "for coord in coord_list:\n",
    "    \n",
    "    city = citipy.nearest_city(coord[0],coord[1])\n",
    "    city_name = city.city_name\n",
    "    country_code = city.country_code\n",
    "    #print(f'processing #  City Name: {city_name} - Country Code: {country_code}')\n",
    "    \n",
    "    tmp = (city_name, country_code)\n",
    "    cities.append(tmp)"
   ]
  },
  {
   "cell_type": "code",
   "execution_count": null,
   "metadata": {},
   "outputs": [],
   "source": [
    "len(cities)"
   ]
  },
  {
   "cell_type": "code",
   "execution_count": null,
   "metadata": {},
   "outputs": [],
   "source": [
    "unique_cities = list(set(cities))"
   ]
  },
  {
   "cell_type": "code",
   "execution_count": null,
   "metadata": {},
   "outputs": [],
   "source": [
    "len(unique_cities)"
   ]
  },
  {
   "cell_type": "markdown",
   "metadata": {},
   "source": [
    "#### OpenWeatherMap - Weather API"
   ]
  },
  {
   "cell_type": "code",
   "execution_count": null,
   "metadata": {},
   "outputs": [],
   "source": [
    "# Save config information.\n",
    "url = \"http://api.openweathermap.org/data/2.5/weather?\"\n",
    "units = \"metric\"\n",
    "\n",
    "# Build partial query URL\n",
    "query_url_tmp = f'{url}appid={api_key}&units={units}&'\n"
   ]
  },
  {
   "cell_type": "code",
   "execution_count": null,
   "metadata": {},
   "outputs": [],
   "source": [
    "#coord_list = [(lat,lon)]\n",
    "city_name_list = []\n",
    "country_code_lsit = []\n",
    "\n",
    "lon_api_list = []\n",
    "lat_api_list = []\n",
    "temp_list = []\n",
    "humidity_list = []\n",
    "wind_list = []\n",
    "clouds = []\n",
    "dt = []\n",
    "country_api = []\n",
    "city_id_api = []\n",
    "city_api = []\n",
    "\n",
    "i = 0\n",
    "j = 0\n",
    "# Loop through the list of cities and perform a request for data on each\n",
    "for cities in unique_cities:\n",
    "    \n",
    "    print(f'{j}-{i}: processing #  City Name: {cities[0]} - Country Code: {cities[1]}')\n",
    "    \n",
    "    query_url = query_url_tmp + f'q={cities[0]},{cities[1]}'\n",
    "    \n",
    "    #print(query_url) #do not print when pushing to github\n",
    "    try:\n",
    "        response = requests.get(query_url).json()\n",
    "        response['sys']['country']\n",
    "        j += 1\n",
    "    except:\n",
    "        print(f'#### Not Found: {cities[0]} in {cities[1]}')\n",
    "        continue\n",
    "    \n",
    "    city_name_list.append(cities[0])\n",
    "    country_code_lsit.append(cities[1])\n",
    "    \n",
    "    lon_api_list.append(response['coord']['lon'])\n",
    "    lat_api_list.append(response['coord']['lat'])\n",
    "    temp_list.append(response['main']['temp'])\n",
    "    humidity_list.append(response['main']['humidity'])\n",
    "    wind_list.append(response['wind']['speed'])\n",
    "    clouds.append(response['clouds']['all'])\n",
    "    dt.append(response['dt'])\n",
    "    country_api.append(response['sys']['country'])\n",
    "    city_id_api.append(response['id'])\n",
    "    city_api.append(response['name'])\n",
    "    \n",
    "    #print(response)\n",
    "    i += 1\n"
   ]
  },
  {
   "cell_type": "code",
   "execution_count": null,
   "metadata": {},
   "outputs": [],
   "source": [
    "weather_data = pd.DataFrame(\n",
    "    {'city_name_list': city_name_list,\n",
    "    'country_code_lsit': country_code_lsit,\n",
    "    'lon_api_list': lon_api_list,\n",
    "    'lat_api_list': lat_api_list,\n",
    "    'temp_list': temp_list,\n",
    "    'humidity_list': humidity_list,\n",
    "    'wind_list': wind_list,\n",
    "    'clouds': clouds,\n",
    "     'city_id_api': city_id_api,\n",
    "     'city_api': city_api,\n",
    "    'country_api': country_api,\n",
    "     'dt': dt\n",
    "    })\n",
    "\n",
    "\n",
    "weather_data"
   ]
  },
  {
   "cell_type": "code",
   "execution_count": null,
   "metadata": {},
   "outputs": [],
   "source": [
    "coord_list[16]"
   ]
  },
  {
   "cell_type": "code",
   "execution_count": null,
   "metadata": {},
   "outputs": [],
   "source": [
    "print(len(city_name_list))\n",
    "print(len(country_code_lsit))\n",
    "\n",
    "print(len(lon_api_list))\n",
    "print(len(lat_api_list))\n",
    "print(len(temp_list))\n",
    "print(len(humidity_list))\n",
    "print(len(wind_list))\n",
    "print(len(clouds))\n",
    "print(len(dt))\n",
    "print(len(country_api))\n",
    "print(len(city_id_api))\n",
    "print(len(city_api))\n",
    "\n",
    "\n"
   ]
  },
  {
   "cell_type": "code",
   "execution_count": null,
   "metadata": {},
   "outputs": [],
   "source": []
  },
  {
   "cell_type": "code",
   "execution_count": null,
   "metadata": {},
   "outputs": [],
   "source": []
  },
  {
   "cell_type": "code",
   "execution_count": null,
   "metadata": {},
   "outputs": [],
   "source": []
  },
  {
   "cell_type": "code",
   "execution_count": null,
   "metadata": {},
   "outputs": [],
   "source": []
  },
  {
   "cell_type": "markdown",
   "metadata": {},
   "source": [
    "---"
   ]
  },
  {
   "cell_type": "markdown",
   "metadata": {},
   "source": [
    "### Data analysis\n",
    "\n",
    "- Temperature (F) vs. Latitude\n",
    "- Humidity (%) vs. Latitude\n",
    "- Cloudiness (%) vs. Latitude\n",
    "- Wind Speed (mph) vs. Latitude"
   ]
  },
  {
   "cell_type": "code",
   "execution_count": null,
   "metadata": {},
   "outputs": [],
   "source": []
  },
  {
   "cell_type": "code",
   "execution_count": null,
   "metadata": {},
   "outputs": [],
   "source": []
  }
 ],
 "metadata": {
  "kernelspec": {
   "display_name": "Python 3",
   "language": "python",
   "name": "python3"
  },
  "language_info": {
   "codemirror_mode": {
    "name": "ipython",
    "version": 3
   },
   "file_extension": ".py",
   "mimetype": "text/x-python",
   "name": "python",
   "nbconvert_exporter": "python",
   "pygments_lexer": "ipython3",
   "version": "3.6.6"
  }
 },
 "nbformat": 4,
 "nbformat_minor": 2
}
