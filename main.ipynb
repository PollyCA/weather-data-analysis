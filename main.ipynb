{
 "cells": [
  {
   "cell_type": "markdown",
   "metadata": {},
   "source": [
    "## Weather Data Analysis"
   ]
  },
  {
   "cell_type": "code",
   "execution_count": 10,
   "metadata": {},
   "outputs": [],
   "source": [
    "#import dependencies\n",
    "import csv\n",
    "import matplotlib.pyplot as plt\n",
    "import requests\n",
    "import pandas as pd\n",
    "\n",
    "from config import api_key\n",
    "\n",
    "from citipy import citipy\n",
    "\n"
   ]
  },
  {
   "cell_type": "markdown",
   "metadata": {},
   "source": [
    "#### Citipy"
   ]
  },
  {
   "cell_type": "code",
   "execution_count": 11,
   "metadata": {},
   "outputs": [
    {
     "name": "stdout",
     "output_type": "stream",
     "text": [
      "City Name: new york - Country Code: us\n"
     ]
    }
   ],
   "source": [
    "lat = 40.7142061\n",
    "lon = -73.9888\n",
    "\n",
    "city = citipy.nearest_city(lat,lon)\n",
    "\n",
    "city_name = city.city_name\n",
    "\n",
    "country_code = city.country_code\n",
    "\n",
    "print(f'City Name: {city_name} - Country Code: {country_code}')"
   ]
  },
  {
   "cell_type": "markdown",
   "metadata": {},
   "source": [
    "#### OpenWeatherMap - Weather API"
   ]
  },
  {
   "cell_type": "code",
   "execution_count": 12,
   "metadata": {},
   "outputs": [
    {
     "name": "stdout",
     "output_type": "stream",
     "text": [
      "http://api.openweathermap.org/data/2.5/weather?appid=a682479f30341377ebd2f56e388ac84a&units=metric&\n"
     ]
    }
   ],
   "source": [
    "# Save config information.\n",
    "url = \"http://api.openweathermap.org/data/2.5/weather?\"\n",
    "units = \"metric\"\n",
    "\n",
    "# Build partial query URL\n",
    "query_url_tmp = f'{url}appid={api_key}&units={units}&'\n",
    "\n",
    "print(query_url_tmp)"
   ]
  },
  {
   "cell_type": "code",
   "execution_count": 16,
   "metadata": {},
   "outputs": [],
   "source": [
    "coord_list = [(lat,lon)]\n",
    "\n",
    "lon_api_list = []\n",
    "lat_api_list = []\n",
    "temp_list = []\n",
    "humidity_list = []\n",
    "wind_list = []\n",
    "clouds = []\n",
    "dt = []\n",
    "country_api = []\n",
    "city_id_api = []\n",
    "city_api = []\n",
    "\n",
    "\n",
    "# Loop through the list of cities and perform a request for data on each\n",
    "for coord in coord_list:\n",
    "    query_url = query_url_tmp + f'lat={coord[0]}&lon={coord[1]}'\n",
    "    \n",
    "    response = requests.get(query_url).json()\n",
    "    lon_api_list.append(response['coord']['lon'])\n",
    "    lat_api_list.append(response['coord']['lat'])\n",
    "    temp_list.append(response['main']['temp'])\n",
    "    humidity_list.append(response['main']['humidity'])\n",
    "    wind_list.append(response['wind']['speed'])\n",
    "    clouds.append(response['clouds']['all'])\n",
    "    dt.append(response['dt'])\n",
    "    country_api.append(response['sys']['country'])\n",
    "    city_id_api.append(response['id'])\n",
    "    city_api.append(response['name'])\n",
    "    \n",
    "    #print(response)\n"
   ]
  },
  {
   "cell_type": "code",
   "execution_count": null,
   "metadata": {},
   "outputs": [],
   "source": [
    "Temperature (F) vs. Latitude\n",
    "Humidity (%) vs. Latitude\n",
    "Cloudiness (%) vs. Latitude\n",
    "Wind Speed (mph) vs. Latitude"
   ]
  },
  {
   "cell_type": "code",
   "execution_count": 18,
   "metadata": {},
   "outputs": [
    {
     "name": "stdout",
     "output_type": "stream",
     "text": [
      "[-73.99]\n",
      "[40.71]\n",
      "[2.93]\n",
      "[41]\n",
      "[6.2]\n",
      "[1]\n",
      "[1547082900]\n",
      "['US']\n",
      "[5128581]\n",
      "['New York']\n"
     ]
    }
   ],
   "source": [
    "print(lon_api_list)\n",
    "print(lat_api_list)\n",
    "print(temp_list)\n",
    "print(humidity_list)\n",
    "print(wind_list)\n",
    "print(clouds)\n",
    "print(dt)\n",
    "print(country_api)\n",
    "print(city_id_api)\n",
    "print(city_api)\n",
    "\n"
   ]
  },
  {
   "cell_type": "markdown",
   "metadata": {},
   "source": [
    "---"
   ]
  },
  {
   "cell_type": "code",
   "execution_count": null,
   "metadata": {},
   "outputs": [],
   "source": []
  }
 ],
 "metadata": {
  "kernelspec": {
   "display_name": "Python 3",
   "language": "python",
   "name": "python3"
  },
  "language_info": {
   "codemirror_mode": {
    "name": "ipython",
    "version": 3
   },
   "file_extension": ".py",
   "mimetype": "text/x-python",
   "name": "python",
   "nbconvert_exporter": "python",
   "pygments_lexer": "ipython3",
   "version": "3.6.6"
  }
 },
 "nbformat": 4,
 "nbformat_minor": 2
}
